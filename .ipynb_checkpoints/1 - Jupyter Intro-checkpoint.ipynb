{
 "cells": [
  {
   "cell_type": "markdown",
   "id": "f990f8ef",
   "metadata": {},
   "source": [
    "# This is a heading\n",
    "\n",
    "This is a text cell. Data scientists use text cells in a Jupyter notebook to write comments about a dataset or notes about  findings. Double click this Markdown cell to change the text, and click Run to format the text.\n",
    "\n",
    "## This is a smaller heading\n",
    "\n",
    "Text cells can contain:\n",
    "\n",
    "- Bulleted lists\n",
    "- Like this\n",
    "\n",
    "Or\n",
    "\n",
    "1. Numbered lists\n",
    "2. Like this"
   ]
  },
  {
   "cell_type": "code",
   "execution_count": null,
   "id": "ae9652f4",
   "metadata": {},
   "outputs": [],
   "source": [
    "# This is a code cell\n",
    "# In Python, hashtags are used to write comments, or text \n",
    "# It's good practice to use comments to write notes above \n",
    "#   a function or command\n"
   ]
  },
  {
   "cell_type": "markdown",
   "id": "6497ff74",
   "metadata": {},
   "source": [
    "[mpg.csv](https://drive.google.com/file/d/1Tiw2TFxeIoAnFBcuIX1rBXtMnXLOkz7K/view?usp=sharing)"
   ]
  },
  {
   "cell_type": "code",
   "execution_count": 3,
   "id": "03867369",
   "metadata": {
    "scrolled": true
   },
   "outputs": [
    {
     "ename": "ValueError",
     "evalue": "'data/mpg.csv' is not one of the example datasets.",
     "output_type": "error",
     "traceback": [
      "\u001b[0;31m---------------------------------------------------------------------------\u001b[0m",
      "\u001b[0;31mValueError\u001b[0m                                Traceback (most recent call last)",
      "Cell \u001b[0;32mIn[3], line 5\u001b[0m\n\u001b[1;32m      2\u001b[0m \u001b[38;5;28;01mimport\u001b[39;00m \u001b[38;5;21;01mseaborn\u001b[39;00m \u001b[38;5;28;01mas\u001b[39;00m \u001b[38;5;21;01msns\u001b[39;00m\n\u001b[1;32m      4\u001b[0m \u001b[38;5;66;03m# Load the miles per gallon dataset and assign the dataset to mpg\u001b[39;00m\n\u001b[0;32m----> 5\u001b[0m mpg \u001b[38;5;241m=\u001b[39m \u001b[43msns\u001b[49m\u001b[38;5;241;43m.\u001b[39;49m\u001b[43mload_dataset\u001b[49m\u001b[43m(\u001b[49m\u001b[38;5;124;43m'\u001b[39;49m\u001b[38;5;124;43mdata/mpg.csv\u001b[39;49m\u001b[38;5;124;43m'\u001b[39;49m\u001b[43m)\u001b[49m\n\u001b[1;32m      7\u001b[0m \u001b[38;5;66;03m# View the dataset (by default, the first and last five rows are displayed)\u001b[39;00m\n\u001b[1;32m      8\u001b[0m mpg\n",
      "File \u001b[0;32m~/anaconda3/envs/ds/lib/python3.9/site-packages/seaborn/utils.py:573\u001b[0m, in \u001b[0;36mload_dataset\u001b[0;34m(name, cache, data_home, **kws)\u001b[0m\n\u001b[1;32m    571\u001b[0m \u001b[38;5;28;01mif\u001b[39;00m \u001b[38;5;129;01mnot\u001b[39;00m os\u001b[38;5;241m.\u001b[39mpath\u001b[38;5;241m.\u001b[39mexists(cache_path):\n\u001b[1;32m    572\u001b[0m     \u001b[38;5;28;01mif\u001b[39;00m name \u001b[38;5;129;01mnot\u001b[39;00m \u001b[38;5;129;01min\u001b[39;00m get_dataset_names():\n\u001b[0;32m--> 573\u001b[0m         \u001b[38;5;28;01mraise\u001b[39;00m \u001b[38;5;167;01mValueError\u001b[39;00m(\u001b[38;5;124mf\u001b[39m\u001b[38;5;124m\"\u001b[39m\u001b[38;5;124m'\u001b[39m\u001b[38;5;132;01m{\u001b[39;00mname\u001b[38;5;132;01m}\u001b[39;00m\u001b[38;5;124m'\u001b[39m\u001b[38;5;124m is not one of the example datasets.\u001b[39m\u001b[38;5;124m\"\u001b[39m)\n\u001b[1;32m    574\u001b[0m     urlretrieve(url, cache_path)\n\u001b[1;32m    575\u001b[0m full_path \u001b[38;5;241m=\u001b[39m cache_path\n",
      "\u001b[0;31mValueError\u001b[0m: 'data/mpg.csv' is not one of the example datasets."
     ]
    }
   ],
   "source": [
    "# Import seaborn library\n",
    "import seaborn as sns\n",
    "\n",
    "# Load the miles per gallon dataset and assign the dataset to mpg\n",
    "mpg = sns.load_dataset('data/mpg.csv')\n",
    "\n",
    "# View the dataset (by default, the first and last five rows are displayed)\n",
    "mpg"
   ]
  },
  {
   "cell_type": "code",
   "execution_count": null,
   "id": "7c40dfb4",
   "metadata": {},
   "outputs": [],
   "source": [
    "# Make a scatter plot with weight on the x-axis and miles per gallon on the y-axis\n",
    "sns.scatterplot(data=mpg, x='weight', y='mpg', hue='cylinders')"
   ]
  },
  {
   "cell_type": "code",
   "execution_count": null,
   "id": "918c0d9e",
   "metadata": {},
   "outputs": [],
   "source": []
  }
 ],
 "metadata": {
  "kernelspec": {
   "display_name": "Python 3 (ipykernel)",
   "language": "python",
   "name": "python3"
  },
  "language_info": {
   "codemirror_mode": {
    "name": "ipython",
    "version": 3
   },
   "file_extension": ".py",
   "mimetype": "text/x-python",
   "name": "python",
   "nbconvert_exporter": "python",
   "pygments_lexer": "ipython3",
   "version": "3.9.19"
  }
 },
 "nbformat": 4,
 "nbformat_minor": 5
}
