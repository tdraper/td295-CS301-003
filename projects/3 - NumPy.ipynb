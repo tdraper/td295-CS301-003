{
 "cells": [
  {
   "cell_type": "markdown",
   "metadata": {
    "id": "r1gavUMBXcHT"
   },
   "source": [
    "## What is numpy\n",
    "\n",
    "NumPy is the fundamental package for scientific computing in Python. It is a Python library that provides a multidimensional array object. At the core of the NumPy package, is the ndarray object. This encapsulates n-dimensional arrays of homogeneous data types."
   ]
  },
  {
   "cell_type": "markdown",
   "metadata": {
    "id": "0QkAPEw9hC2_"
   },
   "source": [
    "### Installing numpy"
   ]
  },
  {
   "cell_type": "code",
   "execution_count": null,
   "metadata": {},
   "outputs": [],
   "source": [
    "#conda install numpy"
   ]
  },
  {
   "cell_type": "code",
   "execution_count": 1,
   "metadata": {
    "id": "qdP6neJOhuEL"
   },
   "outputs": [],
   "source": [
    "import numpy as np"
   ]
  },
  {
   "cell_type": "markdown",
   "metadata": {
    "id": "vvMLPVa3V_YA"
   },
   "source": [
    "### Creating ndarrays"
   ]
  },
  {
   "cell_type": "code",
   "execution_count": null,
   "metadata": {
    "id": "GIRS-b63V_YA"
   },
   "outputs": [],
   "source": [
    "# Creating from a list\n",
    "data1 = [6, 7, 8, 0, 1]\n",
    "arr1 = np.array(data1)\n",
    "print(arr1)\n",
    "print(type(arr1))"
   ]
  },
  {
   "cell_type": "code",
   "execution_count": null,
   "metadata": {
    "id": "sSAUXEtB7w12"
   },
   "outputs": [],
   "source": [
    "# Creating from a tuple\n",
    "data1 = (6, 7, 8, 0, 1)\n",
    "arr1 = np.array(data1)\n",
    "print(arr1)\n",
    "print(type(arr1))"
   ]
  },
  {
   "cell_type": "markdown",
   "metadata": {
    "id": "Hpr9BxPQl4Pr"
   },
   "source": [
    "### Two dimensional array"
   ]
  },
  {
   "cell_type": "code",
   "execution_count": 2,
   "metadata": {
    "id": "cWF0lwxHV_YA"
   },
   "outputs": [
    {
     "data": {
      "text/plain": [
       "array([[1, 2, 3, 4],\n",
       "       [5, 6, 7, 8]])"
      ]
     },
     "execution_count": 2,
     "metadata": {},
     "output_type": "execute_result"
    }
   ],
   "source": [
    "data2 = [[1, 2, 3, 4], [5, 6, 7, 8]]\n",
    "arr2 = np.array(data2)\n",
    "arr2"
   ]
  },
  {
   "cell_type": "code",
   "execution_count": null,
   "metadata": {},
   "outputs": [],
   "source": [
    "arr2.shape"
   ]
  },
  {
   "cell_type": "markdown",
   "metadata": {},
   "source": [
    "### np arrays are mutable"
   ]
  },
  {
   "cell_type": "code",
   "execution_count": 17,
   "metadata": {},
   "outputs": [
    {
     "name": "stdout",
     "output_type": "stream",
     "text": [
      "[[ 1  4  9 16]\n",
      " [25 36 49 64]]\n",
      "[[1 2 3 4 5 6 7 8]]\n",
      "[[1 2]\n",
      " [3 4]\n",
      " [5 6]\n",
      " [7 8]]\n",
      "[1 2 3 4 5 6 7 8]\n",
      "[[1 2 3 4]\n",
      " [5 6 7 8]]\n"
     ]
    }
   ],
   "source": [
    "arr3 = arr2*arr2\n",
    "print (arr3)\n",
    "arr3 = arr2.reshape(1,-1)\n",
    "print(arr3)\n",
    "arr4 = arr2.reshape(4,-1)\n",
    "print(arr4)\n",
    "arr4 = arr4.flatten()\n",
    "print(arr4)\n",
    "arr4 = arr4.reshape(2,-1)\n",
    "print (arr4)"
   ]
  },
  {
   "cell_type": "markdown",
   "metadata": {
    "id": "Bt14HGUG7pXr"
   },
   "source": [
    "![image.png](data:image/png;base64,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)"
   ]
  },
  {
   "cell_type": "markdown",
   "metadata": {
    "id": "UE-C4LQwnijO"
   },
   "source": [
    "### arange function"
   ]
  },
  {
   "cell_type": "code",
   "execution_count": 2,
   "metadata": {
    "id": "3g8CTdhA-ox9"
   },
   "outputs": [
    {
     "data": {
      "text/plain": [
       "array([ 2,  4,  6,  8, 10])"
      ]
     },
     "execution_count": 2,
     "metadata": {},
     "output_type": "execute_result"
    }
   ],
   "source": [
    "# numpy.arange([start, ]stop, [step, ]) \n",
    "# Values are generated within the half-open interval [0, stop) \n",
    "# (in other words, the interval including start but excluding stop).\n",
    "np.arange(2,12,2)"
   ]
  },
  {
   "cell_type": "code",
   "execution_count": 3,
   "metadata": {
    "id": "nyotK5zDV_YB"
   },
   "outputs": [
    {
     "data": {
      "text/plain": [
       "array([2, 3, 4, 5, 6, 7, 8, 9])"
      ]
     },
     "execution_count": 3,
     "metadata": {},
     "output_type": "execute_result"
    }
   ],
   "source": [
    "# If step is not there, the default step is 1.\n",
    "np.arange(2,10)"
   ]
  },
  {
   "cell_type": "code",
   "execution_count": 4,
   "metadata": {
    "id": "51GvzJW8nZWK"
   },
   "outputs": [
    {
     "data": {
      "text/plain": [
       "array([0, 1, 2, 3, 4, 5, 6, 7, 8, 9])"
      ]
     },
     "execution_count": 4,
     "metadata": {},
     "output_type": "execute_result"
    }
   ],
   "source": [
    "# If start and step are not there, the default start is 0 and the default step is 1.\n",
    "np.arange(10)"
   ]
  },
  {
   "cell_type": "markdown",
   "metadata": {
    "id": "sVNTUu9Gnu8Z"
   },
   "source": [
    "### random function"
   ]
  },
  {
   "cell_type": "code",
   "execution_count": 5,
   "metadata": {
    "id": "BJDP_5xYn46z"
   },
   "outputs": [
    {
     "data": {
      "text/plain": [
       "array([3, 0, 6, 2, 3, 8, 7, 8, 5, 4])"
      ]
     },
     "execution_count": 5,
     "metadata": {},
     "output_type": "execute_result"
    }
   ],
   "source": [
    "np.random.randint(10, size=10)"
   ]
  },
  {
   "cell_type": "code",
   "execution_count": 6,
   "metadata": {
    "id": "06t9P8x1-y7r"
   },
   "outputs": [
    {
     "data": {
      "text/plain": [
       "array([-0.84636965,  0.26659597,  0.25440271, -0.48694409,  0.15339918,\n",
       "        1.6304674 ,  0.35316382,  0.25932611,  0.48448216,  0.05581978])"
      ]
     },
     "execution_count": 6,
     "metadata": {},
     "output_type": "execute_result"
    }
   ],
   "source": [
    "np.random.randn(10)"
   ]
  },
  {
   "cell_type": "markdown",
   "metadata": {
    "id": "kfSvHc4sV_YC"
   },
   "source": [
    "### Data Types for ndarrays"
   ]
  },
  {
   "cell_type": "markdown",
   "metadata": {
    "id": "PsaGDYMir1yx"
   },
   "source": [
    "| Type | Type Code\n",
    "| --- | ---\n",
    "| int8, uint8   | i1, u1\n",
    "| int16, uint16 | i2, u2\n",
    "| int32, uint32 | i4, u4\n",
    "| int64, uint64 | i8, u8\n",
    "| float16       |  f2\n",
    "| float32       | f4 or f\n",
    "| float64       | f8 or d\n",
    "| float128      | f16 or g\n",
    "| complex64     | c8, c16,\n",
    "| complex128    | c32\n",
    "| complex256    | c32\n",
    "| bool          | ?\n",
    "| object        | O\n",
    "| string_       | S\n",
    "|unicode_       | U\n",
    "\n"
   ]
  },
  {
   "cell_type": "code",
   "execution_count": null,
   "metadata": {
    "id": "b2eSMEZCV_YC"
   },
   "outputs": [],
   "source": [
    "import numpy as np\n",
    "# define the data type during array creation\n",
    "arr1 = np.array([1, 2, 3], dtype=np.int32)\n",
    "arr2 = np.array([1, 2, 3], dtype='int32')\n",
    "arr3 = np.array([1, 2, 3], dtype='i4')\n",
    "print(arr1.dtype,arr2.dtype,arr3.dtype)"
   ]
  },
  {
   "cell_type": "code",
   "execution_count": null,
   "metadata": {
    "id": "7k_F3HyIV_YC"
   },
   "outputs": [],
   "source": [
    "arr = np.array([1, 2, 3, 4, 5])\n",
    "print(arr.dtype)\n",
    "float_arr = arr.astype(np.float32) # change the data type after the array has been created\n",
    "print(float_arr.dtype)\n",
    "float_arr"
   ]
  },
  {
   "cell_type": "code",
   "execution_count": null,
   "metadata": {
    "id": "FsHYLNSQV_YC"
   },
   "outputs": [],
   "source": [
    "arr = np.array([3.7, -1.2, -2.6, 0.5, 12.9, 10.1])\n",
    "arr.astype(np.int32)"
   ]
  },
  {
   "cell_type": "code",
   "execution_count": null,
   "metadata": {
    "id": "byqkfeLoK11Q"
   },
   "outputs": [],
   "source": [
    "arr = np.array([\"1\",\"2\",\"3\"],dtype=np.string_)\n",
    "arr.astype(np.int32)"
   ]
  },
  {
   "cell_type": "markdown",
   "metadata": {
    "id": "AgyoMn9uV_YE"
   },
   "source": [
    "### Basic Indexing and Slicing"
   ]
  },
  {
   "cell_type": "code",
   "execution_count": null,
   "metadata": {
    "colab": {
     "base_uri": "https://localhost:8080/"
    },
    "executionInfo": {
     "elapsed": 8,
     "status": "ok",
     "timestamp": 1685053149230,
     "user": {
      "displayName": "Akm Islam",
      "userId": "10887598172150809320"
     },
     "user_tz": 240
    },
    "id": "ODWsRCvSV_YE",
    "outputId": "f85e464f-22dc-49e0-ade2-dcb0d5b4a85d"
   },
   "outputs": [],
   "source": [
    "import numpy as np\n",
    "arr = np.arange(10)\n",
    "arr"
   ]
  },
  {
   "cell_type": "code",
   "execution_count": null,
   "metadata": {
    "colab": {
     "base_uri": "https://localhost:8080/"
    },
    "executionInfo": {
     "elapsed": 178,
     "status": "ok",
     "timestamp": 1685053178409,
     "user": {
      "displayName": "Akm Islam",
      "userId": "10887598172150809320"
     },
     "user_tz": 240
    },
    "id": "Vwf6oIu0V_YE",
    "outputId": "1959b66c-cb59-4f32-80ad-85e825fb3189"
   },
   "outputs": [],
   "source": [
    "arr_slice = arr[5:8]\n",
    "arr_slice"
   ]
  },
  {
   "cell_type": "code",
   "execution_count": null,
   "metadata": {
    "colab": {
     "base_uri": "https://localhost:8080/"
    },
    "executionInfo": {
     "elapsed": 238,
     "status": "ok",
     "timestamp": 1685053194883,
     "user": {
      "displayName": "Akm Islam",
      "userId": "10887598172150809320"
     },
     "user_tz": 240
    },
    "id": "w8CPq3YbEp4U",
    "outputId": "31f54d92-b915-4bb6-8ffe-60436a99a360"
   },
   "outputs": [],
   "source": [
    "arr_slice = arr[:3]\n",
    "arr_slice"
   ]
  },
  {
   "cell_type": "code",
   "execution_count": null,
   "metadata": {
    "colab": {
     "base_uri": "https://localhost:8080/"
    },
    "executionInfo": {
     "elapsed": 3,
     "status": "ok",
     "timestamp": 1685053195081,
     "user": {
      "displayName": "Akm Islam",
      "userId": "10887598172150809320"
     },
     "user_tz": 240
    },
    "id": "5I1VfPdQEuuj",
    "outputId": "7615e51e-c4c6-4bc5-f9e3-e443fa7fd9ef"
   },
   "outputs": [],
   "source": [
    "arr_slice = arr[7:]\n",
    "arr_slice"
   ]
  },
  {
   "cell_type": "code",
   "execution_count": null,
   "metadata": {
    "colab": {
     "base_uri": "https://localhost:8080/"
    },
    "executionInfo": {
     "elapsed": 3,
     "status": "ok",
     "timestamp": 1685053195217,
     "user": {
      "displayName": "Akm Islam",
      "userId": "10887598172150809320"
     },
     "user_tz": 240
    },
    "id": "wrprzrhqV_YE",
    "outputId": "041b79ee-306d-417c-9fd6-585808364a14"
   },
   "outputs": [],
   "source": [
    "arr[:]"
   ]
  },
  {
   "cell_type": "code",
   "execution_count": null,
   "metadata": {
    "colab": {
     "base_uri": "https://localhost:8080/"
    },
    "executionInfo": {
     "elapsed": 3,
     "status": "ok",
     "timestamp": 1685053195368,
     "user": {
      "displayName": "Akm Islam",
      "userId": "10887598172150809320"
     },
     "user_tz": 240
    },
    "id": "_KjgvXsgFAw6",
    "outputId": "8e148fea-91f9-4336-ea4d-04a2391eef39"
   },
   "outputs": [],
   "source": [
    "arr[:-3]"
   ]
  },
  {
   "cell_type": "code",
   "execution_count": null,
   "metadata": {
    "colab": {
     "base_uri": "https://localhost:8080/"
    },
    "executionInfo": {
     "elapsed": 3,
     "status": "ok",
     "timestamp": 1685053196267,
     "user": {
      "displayName": "Akm Islam",
      "userId": "10887598172150809320"
     },
     "user_tz": 240
    },
    "id": "ZC5GigkmEWhd",
    "outputId": "e44132a6-a2ad-485c-8ffb-ca70f1845e16"
   },
   "outputs": [],
   "source": [
    "arr[-3:]"
   ]
  },
  {
   "cell_type": "markdown",
   "metadata": {
    "id": "R7YnYwHJV_YH"
   },
   "source": [
    "### Boolean Indexing"
   ]
  },
  {
   "cell_type": "code",
   "execution_count": 7,
   "metadata": {
    "colab": {
     "base_uri": "https://localhost:8080/"
    },
    "executionInfo": {
     "elapsed": 134,
     "status": "ok",
     "timestamp": 1685053434895,
     "user": {
      "displayName": "Akm Islam",
      "userId": "10887598172150809320"
     },
     "user_tz": 240
    },
    "id": "2valL0eoV_YH",
    "outputId": "f0fc6317-f1bf-46d9-b8ca-a6ff3125a13d"
   },
   "outputs": [
    {
     "data": {
      "text/plain": [
       "array(['Nancy', 'James'], dtype='<U5')"
      ]
     },
     "execution_count": 7,
     "metadata": {},
     "output_type": "execute_result"
    }
   ],
   "source": [
    "names = np.array(['Nancy', 'Kevin', 'James'])\n",
    "\n",
    "names[[True,False,True]]"
   ]
  },
  {
   "cell_type": "code",
   "execution_count": 8,
   "metadata": {
    "id": "FwQ5ASHFv7_i"
   },
   "outputs": [
    {
     "data": {
      "text/plain": [
       "array(['Nancy', 'James'], dtype='<U5')"
      ]
     },
     "execution_count": 8,
     "metadata": {},
     "output_type": "execute_result"
    }
   ],
   "source": [
    "mask=[True,False,True]\n",
    "names[mask]"
   ]
  },
  {
   "cell_type": "code",
   "execution_count": 9,
   "metadata": {
    "colab": {
     "base_uri": "https://localhost:8080/"
    },
    "executionInfo": {
     "elapsed": 3,
     "status": "ok",
     "timestamp": 1685053539747,
     "user": {
      "displayName": "Akm Islam",
      "userId": "10887598172150809320"
     },
     "user_tz": 240
    },
    "id": "oBreTXizBHxj",
    "outputId": "b1b769a0-f469-4d92-ba49-90dff9b5c520"
   },
   "outputs": [
    {
     "data": {
      "text/plain": [
       "array(['Nancy', 'Kevin', 'James'], dtype='<U5')"
      ]
     },
     "execution_count": 9,
     "metadata": {},
     "output_type": "execute_result"
    }
   ],
   "source": [
    "names"
   ]
  },
  {
   "cell_type": "code",
   "execution_count": 10,
   "metadata": {
    "colab": {
     "base_uri": "https://localhost:8080/"
    },
    "executionInfo": {
     "elapsed": 164,
     "status": "ok",
     "timestamp": 1685053527779,
     "user": {
      "displayName": "Akm Islam",
      "userId": "10887598172150809320"
     },
     "user_tz": 240
    },
    "id": "ak9m0uJvV_YH",
    "outputId": "3066f12d-e4e9-4bd4-c211-72fd06ea041f"
   },
   "outputs": [
    {
     "data": {
      "text/plain": [
       "array([False, False,  True])"
      ]
     },
     "execution_count": 10,
     "metadata": {},
     "output_type": "execute_result"
    }
   ],
   "source": [
    "names == 'James'"
   ]
  },
  {
   "cell_type": "code",
   "execution_count": 11,
   "metadata": {
    "colab": {
     "base_uri": "https://localhost:8080/"
    },
    "executionInfo": {
     "elapsed": 250,
     "status": "ok",
     "timestamp": 1685053668857,
     "user": {
      "displayName": "Akm Islam",
      "userId": "10887598172150809320"
     },
     "user_tz": 240
    },
    "id": "3_mmIwjIV_YI",
    "outputId": "32bac6e0-40ef-413b-8520-34dede41bd43"
   },
   "outputs": [
    {
     "data": {
      "text/plain": [
       "array([ True, False,  True])"
      ]
     },
     "execution_count": 11,
     "metadata": {},
     "output_type": "execute_result"
    }
   ],
   "source": [
    "mask = (names == 'Nancy') | (names == 'James')\n",
    "mask"
   ]
  },
  {
   "cell_type": "code",
   "execution_count": 12,
   "metadata": {
    "colab": {
     "base_uri": "https://localhost:8080/"
    },
    "executionInfo": {
     "elapsed": 149,
     "status": "ok",
     "timestamp": 1685053690102,
     "user": {
      "displayName": "Akm Islam",
      "userId": "10887598172150809320"
     },
     "user_tz": 240
    },
    "id": "9_IDWf5dV_YI",
    "outputId": "c0725378-49bc-43da-a7b5-785966925050"
   },
   "outputs": [
    {
     "data": {
      "text/plain": [
       "array(['Nancy', 'James'], dtype='<U5')"
      ]
     },
     "execution_count": 12,
     "metadata": {},
     "output_type": "execute_result"
    }
   ],
   "source": [
    "names[mask]"
   ]
  },
  {
   "cell_type": "markdown",
   "metadata": {
    "id": "9Susui6zV_YI"
   },
   "source": [
    "### Fancy Indexing"
   ]
  },
  {
   "cell_type": "code",
   "execution_count": 13,
   "metadata": {
    "id": "qnBPIGklV_YI"
   },
   "outputs": [
    {
     "data": {
      "text/plain": [
       "array(['Nancy', 'James'], dtype='<U7')"
      ]
     },
     "execution_count": 13,
     "metadata": {},
     "output_type": "execute_result"
    }
   ],
   "source": [
    "names = np.array(['Nancy', 'Kevin', 'James','Michael'])\n",
    "names[[0,2]]"
   ]
  },
  {
   "cell_type": "markdown",
   "metadata": {
    "id": "quuuVEcUlf_O"
   },
   "source": [
    "### Arithmetic with NumPy Arrays - Elementwise Operation"
   ]
  },
  {
   "cell_type": "code",
   "execution_count": 14,
   "metadata": {
    "colab": {
     "base_uri": "https://localhost:8080/"
    },
    "executionInfo": {
     "elapsed": 134,
     "status": "ok",
     "timestamp": 1685054106391,
     "user": {
      "displayName": "Akm Islam",
      "userId": "10887598172150809320"
     },
     "user_tz": 240
    },
    "id": "JN6dTvqtlkaY",
    "outputId": "086e45fa-7d8a-4d86-b847-e73dca437914"
   },
   "outputs": [
    {
     "data": {
      "text/plain": [
       "array([ 20, 120, 100])"
      ]
     },
     "execution_count": 14,
     "metadata": {},
     "output_type": "execute_result"
    }
   ],
   "source": [
    "import numpy as np\n",
    "arr1 = np.array([10, 30, 20])\n",
    "arr2 = np.array([2, 4, 5])\n",
    "arr1 * arr2"
   ]
  },
  {
   "cell_type": "code",
   "execution_count": 15,
   "metadata": {
    "id": "V0keffgdy4Qu"
   },
   "outputs": [
    {
     "ename": "TypeError",
     "evalue": "can't multiply sequence by non-int of type 'list'",
     "output_type": "error",
     "traceback": [
      "\u001b[0;31m---------------------------------------------------------------------------\u001b[0m",
      "\u001b[0;31mTypeError\u001b[0m                                 Traceback (most recent call last)",
      "Cell \u001b[0;32mIn[15], line 4\u001b[0m\n\u001b[1;32m      2\u001b[0m list1\u001b[38;5;241m=\u001b[39m[\u001b[38;5;241m10\u001b[39m, \u001b[38;5;241m30\u001b[39m, \u001b[38;5;241m20\u001b[39m]\n\u001b[1;32m      3\u001b[0m list2\u001b[38;5;241m=\u001b[39m[\u001b[38;5;241m2\u001b[39m, \u001b[38;5;241m4\u001b[39m, \u001b[38;5;241m5\u001b[39m]\n\u001b[0;32m----> 4\u001b[0m \u001b[43mlist1\u001b[49m\u001b[38;5;241;43m*\u001b[39;49m\u001b[43mlist2\u001b[49m\n",
      "\u001b[0;31mTypeError\u001b[0m: can't multiply sequence by non-int of type 'list'"
     ]
    }
   ],
   "source": [
    "# In python, list*list is invalid\n",
    "list1=[10, 30, 20]\n",
    "list2=[2, 4, 5]\n",
    "list1*list2"
   ]
  },
  {
   "cell_type": "code",
   "execution_count": 16,
   "metadata": {
    "colab": {
     "base_uri": "https://localhost:8080/"
    },
    "executionInfo": {
     "elapsed": 501,
     "status": "ok",
     "timestamp": 1685054172371,
     "user": {
      "displayName": "Akm Islam",
      "userId": "10887598172150809320"
     },
     "user_tz": 240
    },
    "id": "_UP6Ntmclyir",
    "outputId": "ee98dfa2-1714-4c19-f2d6-9c3bb923eac5"
   },
   "outputs": [
    {
     "data": {
      "text/plain": [
       "array([ 8, 26, 15])"
      ]
     },
     "execution_count": 16,
     "metadata": {},
     "output_type": "execute_result"
    }
   ],
   "source": [
    "arr1 = np.array([10, 30, 20])\n",
    "arr2 = np.array([2, 4, 5])\n",
    "arr1 - arr2"
   ]
  },
  {
   "cell_type": "code",
   "execution_count": 17,
   "metadata": {
    "id": "jQ2lyzFXzJnd"
   },
   "outputs": [
    {
     "ename": "TypeError",
     "evalue": "unsupported operand type(s) for -: 'list' and 'list'",
     "output_type": "error",
     "traceback": [
      "\u001b[0;31m---------------------------------------------------------------------------\u001b[0m",
      "\u001b[0;31mTypeError\u001b[0m                                 Traceback (most recent call last)",
      "Cell \u001b[0;32mIn[17], line 4\u001b[0m\n\u001b[1;32m      2\u001b[0m list1\u001b[38;5;241m=\u001b[39m[\u001b[38;5;241m10\u001b[39m, \u001b[38;5;241m30\u001b[39m, \u001b[38;5;241m20\u001b[39m]\n\u001b[1;32m      3\u001b[0m list2\u001b[38;5;241m=\u001b[39m[\u001b[38;5;241m2\u001b[39m, \u001b[38;5;241m4\u001b[39m, \u001b[38;5;241m5\u001b[39m]\n\u001b[0;32m----> 4\u001b[0m \u001b[43mlist1\u001b[49m\u001b[43m \u001b[49m\u001b[38;5;241;43m-\u001b[39;49m\u001b[43m \u001b[49m\u001b[43mlist2\u001b[49m\n",
      "\u001b[0;31mTypeError\u001b[0m: unsupported operand type(s) for -: 'list' and 'list'"
     ]
    }
   ],
   "source": [
    "# In python, list - list is invalid\n",
    "list1=[10, 30, 20]\n",
    "list2=[2, 4, 5]\n",
    "list1 - list2"
   ]
  },
  {
   "cell_type": "code",
   "execution_count": 18,
   "metadata": {
    "colab": {
     "base_uri": "https://localhost:8080/"
    },
    "executionInfo": {
     "elapsed": 160,
     "status": "ok",
     "timestamp": 1685054485012,
     "user": {
      "displayName": "Akm Islam",
      "userId": "10887598172150809320"
     },
     "user_tz": 240
    },
    "id": "ZbIQloYyDn1h",
    "outputId": "4ba5f4b1-3b1c-4a69-f9c6-2eda0b72e295"
   },
   "outputs": [
    {
     "data": {
      "text/plain": [
       "array([10, 30, 20])"
      ]
     },
     "execution_count": 18,
     "metadata": {},
     "output_type": "execute_result"
    }
   ],
   "source": [
    "arr1"
   ]
  },
  {
   "cell_type": "code",
   "execution_count": 19,
   "metadata": {
    "colab": {
     "base_uri": "https://localhost:8080/"
    },
    "executionInfo": {
     "elapsed": 205,
     "status": "ok",
     "timestamp": 1685054497498,
     "user": {
      "displayName": "Akm Islam",
      "userId": "10887598172150809320"
     },
     "user_tz": 240
    },
    "id": "uzaurWB7lnhV",
    "outputId": "4c28e986-c9c8-4c00-e565-ccad563239fc"
   },
   "outputs": [
    {
     "data": {
      "text/plain": [
       "array([20, 60, 40])"
      ]
     },
     "execution_count": 19,
     "metadata": {},
     "output_type": "execute_result"
    }
   ],
   "source": [
    "arr1*2"
   ]
  },
  {
   "cell_type": "code",
   "execution_count": 20,
   "metadata": {
    "colab": {
     "base_uri": "https://localhost:8080/"
    },
    "executionInfo": {
     "elapsed": 4,
     "status": "ok",
     "timestamp": 1685054438605,
     "user": {
      "displayName": "Akm Islam",
      "userId": "10887598172150809320"
     },
     "user_tz": 240
    },
    "id": "t37UNn4Jyr2Q",
    "outputId": "8a542953-4fca-47fc-fcd7-3ef282a9b6c8"
   },
   "outputs": [
    {
     "data": {
      "text/plain": [
       "[1, 2, 3, 1, 2, 3]"
      ]
     },
     "execution_count": 20,
     "metadata": {},
     "output_type": "execute_result"
    }
   ],
   "source": [
    "# In python, items will be repeated when multiplied by an integer\n",
    "list1=[1,2,3]\n",
    "list1*2"
   ]
  },
  {
   "cell_type": "code",
   "execution_count": 21,
   "metadata": {
    "colab": {
     "base_uri": "https://localhost:8080/"
    },
    "executionInfo": {
     "elapsed": 155,
     "status": "ok",
     "timestamp": 1685054503736,
     "user": {
      "displayName": "Akm Islam",
      "userId": "10887598172150809320"
     },
     "user_tz": 240
    },
    "id": "Xrc5TWd8lqJv",
    "outputId": "da75e326-cbf9-4098-828a-f26c257469c9"
   },
   "outputs": [
    {
     "data": {
      "text/plain": [
       "array([ True, False,  True])"
      ]
     },
     "execution_count": 21,
     "metadata": {},
     "output_type": "execute_result"
    }
   ],
   "source": [
    "arr1 = np.array([10, 3, 20])\n",
    "arr2 = np.array([2, 4, 5])\n",
    "arr1 > arr2"
   ]
  },
  {
   "cell_type": "markdown",
   "metadata": {
    "id": "kRZaEs7kXaHg"
   },
   "source": [
    "### Broadcasting\n",
    "[Numpy Broadcasting, Explained](https://numpy.org/doc/stable/user/basics.broadcasting.html)"
   ]
  },
  {
   "cell_type": "code",
   "execution_count": 22,
   "metadata": {
    "id": "jYwhlUVDWy4U"
   },
   "outputs": [
    {
     "data": {
      "text/plain": [
       "array([20, 40, 60])"
      ]
     },
     "execution_count": 22,
     "metadata": {},
     "output_type": "execute_result"
    }
   ],
   "source": [
    "a = np.array([10, 20, 30])\n",
    "b = 2\n",
    "a*b"
   ]
  },
  {
   "cell_type": "markdown",
   "metadata": {
    "id": "67WBdWdqW0Xm"
   },
   "source": [
    "![image.png](data:image/png;base64,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)\n",
    "Source: numpy.org"
   ]
  },
  {
   "cell_type": "markdown",
   "metadata": {
    "id": "dCy3fIQv-nLD"
   },
   "source": [
    "### Sorting"
   ]
  },
  {
   "cell_type": "code",
   "execution_count": null,
   "metadata": {
    "colab": {
     "base_uri": "https://localhost:8080/"
    },
    "executionInfo": {
     "elapsed": 275,
     "status": "ok",
     "timestamp": 1685055324253,
     "user": {
      "displayName": "Akm Islam",
      "userId": "10887598172150809320"
     },
     "user_tz": 240
    },
    "id": "Fu-_gHc0-mJT",
    "outputId": "ac723df5-91ea-494d-da81-bef3c042febf"
   },
   "outputs": [],
   "source": [
    "import numpy as np\n",
    "arr = np.random.randint(60,size=10)\n",
    "print(arr)\n",
    "arr.sort()\n",
    "print('sorted array:',arr)"
   ]
  },
  {
   "cell_type": "markdown",
   "metadata": {
    "id": "yiShPsf_YEgy"
   },
   "source": [
    "#### Numpy axes\n",
    "[Numpy Axes, Explained](https://www.sharpsightlabs.com/blog/numpy-axes-explained/)"
   ]
  },
  {
   "cell_type": "code",
   "execution_count": null,
   "metadata": {
    "colab": {
     "base_uri": "https://localhost:8080/"
    },
    "executionInfo": {
     "elapsed": 231,
     "status": "ok",
     "timestamp": 1685055383925,
     "user": {
      "displayName": "Akm Islam",
      "userId": "10887598172150809320"
     },
     "user_tz": 240
    },
    "id": "khfv_tji-rcK",
    "outputId": "608a0715-36bf-401b-cc57-b8cc9871347c"
   },
   "outputs": [],
   "source": [
    "arr = np.random.randn(5, 3)\n",
    "print(arr)"
   ]
  },
  {
   "cell_type": "code",
   "execution_count": null,
   "metadata": {
    "colab": {
     "base_uri": "https://localhost:8080/"
    },
    "executionInfo": {
     "elapsed": 137,
     "status": "ok",
     "timestamp": 1685055630886,
     "user": {
      "displayName": "Akm Islam",
      "userId": "10887598172150809320"
     },
     "user_tz": 240
    },
    "id": "e8kM_14LrnqE",
    "outputId": "7180e917-0704-4ad7-8fb9-6f4e213c34a1"
   },
   "outputs": [],
   "source": [
    "arr.sort()\n",
    "print(\"Sorted Array: \\n\",arr)"
   ]
  },
  {
   "cell_type": "code",
   "execution_count": null,
   "metadata": {
    "id": "gzoI6XX6_fa2"
   },
   "outputs": [],
   "source": [
    "arr = np.random.randn(5, 3)\n",
    "print(arr)\n",
    "arr.sort(0)\n",
    "print(\"Sorted Array: \\n\",arr)"
   ]
  },
  {
   "cell_type": "code",
   "execution_count": null,
   "metadata": {
    "id": "_WAum1LHS5g8"
   },
   "outputs": [],
   "source": [
    "arr = np.random.randn(5, 3)\n",
    "print(arr)\n",
    "arr.sort()\n",
    "print(\"Sorted Array: \\n\",arr)"
   ]
  },
  {
   "cell_type": "markdown",
   "metadata": {
    "id": "PiyaWe8cnvVh"
   },
   "source": [
    "### Mathematical and Statistical Methods"
   ]
  },
  {
   "cell_type": "code",
   "execution_count": 23,
   "metadata": {
    "colab": {
     "base_uri": "https://localhost:8080/"
    },
    "executionInfo": {
     "elapsed": 149,
     "status": "ok",
     "timestamp": 1685056095455,
     "user": {
      "displayName": "Akm Islam",
      "userId": "10887598172150809320"
     },
     "user_tz": 240
    },
    "id": "2bGS16OOnz3b",
    "outputId": "3f03115d-6049-44a4-eac1-ba68b1795d35"
   },
   "outputs": [
    {
     "name": "stdout",
     "output_type": "stream",
     "text": [
      "The shape is:  (2, 3)\n",
      "The content is:\n"
     ]
    },
    {
     "data": {
      "text/plain": [
       "array([[10, 30, 20],\n",
       "       [10,  5, 60]])"
      ]
     },
     "execution_count": 23,
     "metadata": {},
     "output_type": "execute_result"
    }
   ],
   "source": [
    "import numpy as np\n",
    "# 2 by 3 array\n",
    "arr = np.array([[10, 30, 20],\n",
    "                [10, 5, 60]])\n",
    "print(\"The shape is: \",arr.shape)\n",
    "print(\"The content is:\")\n",
    "arr"
   ]
  },
  {
   "cell_type": "code",
   "execution_count": 24,
   "metadata": {
    "colab": {
     "base_uri": "https://localhost:8080/"
    },
    "executionInfo": {
     "elapsed": 4,
     "status": "ok",
     "timestamp": 1685056127028,
     "user": {
      "displayName": "Akm Islam",
      "userId": "10887598172150809320"
     },
     "user_tz": 240
    },
    "id": "pepv1uxPoNzx",
    "outputId": "9fcb3492-fcf0-4882-bab2-9a67ef21927d"
   },
   "outputs": [
    {
     "name": "stdout",
     "output_type": "stream",
     "text": [
      "The sum is: 135\n"
     ]
    }
   ],
   "source": [
    "print(\"The sum is:\",arr.sum())"
   ]
  },
  {
   "cell_type": "code",
   "execution_count": 25,
   "metadata": {
    "colab": {
     "base_uri": "https://localhost:8080/"
    },
    "executionInfo": {
     "elapsed": 216,
     "status": "ok",
     "timestamp": 1685056140218,
     "user": {
      "displayName": "Akm Islam",
      "userId": "10887598172150809320"
     },
     "user_tz": 240
    },
    "id": "xpJfDWjDLCEw",
    "outputId": "93bf96c1-9d38-491d-d0e1-49462893b1fc"
   },
   "outputs": [
    {
     "name": "stdout",
     "output_type": "stream",
     "text": [
      "The mean is: 22.5\n"
     ]
    }
   ],
   "source": [
    "print(\"The mean is:\",arr.mean())"
   ]
  },
  {
   "cell_type": "code",
   "execution_count": 26,
   "metadata": {
    "colab": {
     "base_uri": "https://localhost:8080/"
    },
    "executionInfo": {
     "elapsed": 145,
     "status": "ok",
     "timestamp": 1685056153779,
     "user": {
      "displayName": "Akm Islam",
      "userId": "10887598172150809320"
     },
     "user_tz": 240
    },
    "id": "XxQnGk9pLEDI",
    "outputId": "499d9bfc-fac5-42e4-bb1d-f6f30945a346"
   },
   "outputs": [
    {
     "name": "stdout",
     "output_type": "stream",
     "text": [
      "The mean is: 22.5\n"
     ]
    }
   ],
   "source": [
    "print(\"The mean is:\",np.mean(arr))"
   ]
  },
  {
   "cell_type": "code",
   "execution_count": 27,
   "metadata": {
    "colab": {
     "base_uri": "https://localhost:8080/"
    },
    "executionInfo": {
     "elapsed": 3,
     "status": "ok",
     "timestamp": 1685056239400,
     "user": {
      "displayName": "Akm Islam",
      "userId": "10887598172150809320"
     },
     "user_tz": 240
    },
    "id": "uy7g-5K0LapN",
    "outputId": "2296c558-a4ec-4077-8418-03047075f7e4"
   },
   "outputs": [
    {
     "data": {
      "text/plain": [
       "array([[10, 30, 20],\n",
       "       [10,  5, 60]])"
      ]
     },
     "execution_count": 27,
     "metadata": {},
     "output_type": "execute_result"
    }
   ],
   "source": [
    "arr"
   ]
  },
  {
   "cell_type": "code",
   "execution_count": 28,
   "metadata": {
    "colab": {
     "base_uri": "https://localhost:8080/"
    },
    "executionInfo": {
     "elapsed": 201,
     "status": "ok",
     "timestamp": 1685056264988,
     "user": {
      "displayName": "Akm Islam",
      "userId": "10887598172150809320"
     },
     "user_tz": 240
    },
    "id": "zCRmGYBtpp3C",
    "outputId": "5ed367ee-f5b5-49f7-ccbd-c67774811bd2"
   },
   "outputs": [
    {
     "name": "stdout",
     "output_type": "stream",
     "text": [
      "[20 35 80]\n"
     ]
    }
   ],
   "source": [
    "print(arr.sum(axis=0))"
   ]
  },
  {
   "cell_type": "code",
   "execution_count": 29,
   "metadata": {
    "colab": {
     "base_uri": "https://localhost:8080/"
    },
    "executionInfo": {
     "elapsed": 890,
     "status": "ok",
     "timestamp": 1685056284388,
     "user": {
      "displayName": "Akm Islam",
      "userId": "10887598172150809320"
     },
     "user_tz": 240
    },
    "id": "9H5X7QwJLZje",
    "outputId": "59b12e5f-e169-4f16-c6a2-1a95b323f825"
   },
   "outputs": [
    {
     "name": "stdout",
     "output_type": "stream",
     "text": [
      "[60 75]\n"
     ]
    }
   ],
   "source": [
    "print(arr.sum(axis=1))"
   ]
  },
  {
   "cell_type": "code",
   "execution_count": 30,
   "metadata": {
    "colab": {
     "base_uri": "https://localhost:8080/"
    },
    "executionInfo": {
     "elapsed": 128,
     "status": "ok",
     "timestamp": 1685056289193,
     "user": {
      "displayName": "Akm Islam",
      "userId": "10887598172150809320"
     },
     "user_tz": 240
    },
    "id": "4GQx6GhLn6kR",
    "outputId": "db6dd567-49df-4ac3-d929-2b14f420a40f"
   },
   "outputs": [
    {
     "name": "stdout",
     "output_type": "stream",
     "text": [
      "[10.  17.5 40. ]\n",
      "[20. 25.]\n"
     ]
    }
   ],
   "source": [
    "print(arr.mean(axis=0))\n",
    "print(arr.mean(axis=1))"
   ]
  },
  {
   "cell_type": "markdown",
   "metadata": {
    "id": "RT7B3dOnV_YO"
   },
   "source": [
    "### File Input and Output with Arrays"
   ]
  },
  {
   "cell_type": "markdown",
   "metadata": {
    "id": "5AlFctH1cA2O"
   },
   "source": [
    "**np.save** and **np.load** are the two workhorse functions for efficiently saving and load‐\n",
    "ing array data on disk. Arrays are saved by default in an uncompressed raw binary\n",
    "format with file extension .npy."
   ]
  },
  {
   "cell_type": "code",
   "execution_count": 31,
   "metadata": {
    "id": "8HzD_mbfV_YP"
   },
   "outputs": [],
   "source": [
    "import numpy as np\n",
    "arr = np.arange(10)\n",
    "np.save('some_array', arr)"
   ]
  },
  {
   "cell_type": "code",
   "execution_count": 32,
   "metadata": {
    "id": "oLXT-a_TV_YP"
   },
   "outputs": [
    {
     "data": {
      "text/plain": [
       "array([0, 1, 2, 3, 4, 5, 6, 7, 8, 9])"
      ]
     },
     "execution_count": 32,
     "metadata": {},
     "output_type": "execute_result"
    }
   ],
   "source": [
    "np.load('some_array.npy')"
   ]
  },
  {
   "cell_type": "markdown",
   "metadata": {},
   "source": [
    "### Array functions ###\n",
    "| Function\t| Parameters\t| Description |\n",
    "| :-------- | :-----------  | :---------- |\n",
    "| array()\t| object<br>dtype=None<br>ndmin=0\t| Returns an array constructed from object. object must be a scalar or an ordered container, such as tuple or list. The array element type is inferred from object unless a dtype is specified. ndim is the minimum number of array dimensions. |\n",
    "| delete()\t| arr<br>object<br>axis=None\t| Deletes a slice of input array arr. axis is the axis along which to remove a slice. obj is the index of the slice along the axis. |\n",
    "|fill()\t| shape<br>fill_value<br>dtype=None\t|Returns an array filled with fill_value. The shape tuple specifies array shape. dtype specifies the array type. If dtype=None, the type is inferred from fill_value. |\n",
    "| insert()\t| arr<br>object<br>values<br>axis=None\t| Inserts array values to input array arr. axis is the axis along which to insert. obj is the index before which values is inserted. |\n",
    "| zeros()\t| shape<br>dtype=float\t| Returns an array filled with zeros. The shape tuple specifies array shape. dtype specifies the array type. |\n",
    "| ones()\t| shape<br>dtype=None\t| Returns an array filled with ones. The shape tuple specifies array shape. dtype specifies the array type. If dtype=None, the type is float64. |\n",
    "|sort()\t | a<br>axis=-1\t| Sorts array a along axis. The default axis=-1 sorts along the last axis in a. axis=None flattens a before sorting. |\n"
   ]
  },
  {
   "cell_type": "markdown",
   "metadata": {
    "id": "h4teSmp6OFrG"
   },
   "source": [
    "To learn more, read Python for Data Analysis Chapter 4\n"
   ]
  },
  {
   "cell_type": "code",
   "execution_count": null,
   "metadata": {},
   "outputs": [],
   "source": []
  }
 ],
 "metadata": {
  "colab": {
   "collapsed_sections": [
    "kfSvHc4sV_YC"
   ],
   "provenance": []
  },
  "kernelspec": {
   "display_name": "Python 3 (ipykernel)",
   "language": "python",
   "name": "python3"
  },
  "language_info": {
   "codemirror_mode": {
    "name": "ipython",
    "version": 3
   },
   "file_extension": ".py",
   "mimetype": "text/x-python",
   "name": "python",
   "nbconvert_exporter": "python",
   "pygments_lexer": "ipython3",
   "version": "3.9.15"
  }
 },
 "nbformat": 4,
 "nbformat_minor": 4
}
