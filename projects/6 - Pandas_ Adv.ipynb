{
 "cells": [
  {
   "cell_type": "code",
   "execution_count": null,
   "metadata": {
    "id": "ATbBwlRxNcfK"
   },
   "outputs": [],
   "source": [
    "import pandas as pd\n",
    "import numpy as np"
   ]
  },
  {
   "cell_type": "markdown",
   "metadata": {
    "id": "iYL7E85xEX93"
   },
   "source": [
    "### Dropping items from Series"
   ]
  },
  {
   "cell_type": "code",
   "execution_count": null,
   "metadata": {
    "colab": {
     "base_uri": "https://localhost:8080/"
    },
    "executionInfo": {
     "elapsed": 209,
     "status": "ok",
     "timestamp": 1689200292176,
     "user": {
      "displayName": "Akm Islam",
      "userId": "10887598172150809320"
     },
     "user_tz": 240
    },
    "id": "_CJ4KMYDEX94",
    "outputId": "456e665a-a589-43c4-c52b-1e6d94023c3a"
   },
   "outputs": [],
   "source": [
    "ser = pd.Series(['a','b','c','d'], index=[1, 2, 3,4])\n",
    "ser\n"
   ]
  },
  {
   "cell_type": "code",
   "execution_count": null,
   "metadata": {
    "colab": {
     "base_uri": "https://localhost:8080/"
    },
    "executionInfo": {
     "elapsed": 5,
     "status": "ok",
     "timestamp": 1689200398685,
     "user": {
      "displayName": "Akm Islam",
      "userId": "10887598172150809320"
     },
     "user_tz": 240
    },
    "id": "fpuI1fopNhK1",
    "outputId": "7bc2be77-ffa7-4aae-cb08-9ad9b7664761"
   },
   "outputs": [],
   "source": [
    "ser2=ser.drop(2)\n",
    "ser2"
   ]
  },
  {
   "cell_type": "code",
   "execution_count": null,
   "metadata": {
    "id": "bO7EyCFpqre_"
   },
   "outputs": [],
   "source": [
    "ser"
   ]
  },
  {
   "cell_type": "code",
   "execution_count": null,
   "metadata": {
    "colab": {
     "base_uri": "https://localhost:8080/"
    },
    "executionInfo": {
     "elapsed": 239,
     "status": "ok",
     "timestamp": 1689200450154,
     "user": {
      "displayName": "Akm Islam",
      "userId": "10887598172150809320"
     },
     "user_tz": 240
    },
    "id": "fdgRBXnzN6G6",
    "outputId": "52a56a9b-6a1e-4530-c5bb-bd0e24033848"
   },
   "outputs": [],
   "source": [
    "ser.drop(3,inplace=True)\n",
    "ser"
   ]
  },
  {
   "cell_type": "code",
   "execution_count": null,
   "metadata": {
    "colab": {
     "base_uri": "https://localhost:8080/"
    },
    "executionInfo": {
     "elapsed": 211,
     "status": "ok",
     "timestamp": 1689200503397,
     "user": {
      "displayName": "Akm Islam",
      "userId": "10887598172150809320"
     },
     "user_tz": 240
    },
    "id": "dcyJ69QEqAgN",
    "outputId": "ae9b6d31-4925-4d3e-c856-a3c452b639ca"
   },
   "outputs": [],
   "source": [
    "new_ser2=ser.drop([1, 2])\n",
    "new_ser2"
   ]
  },
  {
   "cell_type": "code",
   "execution_count": null,
   "metadata": {
    "id": "GzUKLH3ZqDSB"
   },
   "outputs": [],
   "source": [
    "ser"
   ]
  },
  {
   "cell_type": "markdown",
   "metadata": {
    "id": "EpXHDLpuqaKk"
   },
   "source": [
    "### Dropping items from a  DataFrame\n",
    "\n",
    "axis{0 for row, 1 for columns}, default 0"
   ]
  },
  {
   "cell_type": "code",
   "execution_count": null,
   "metadata": {
    "colab": {
     "base_uri": "https://localhost:8080/",
     "height": 174
    },
    "executionInfo": {
     "elapsed": 208,
     "status": "ok",
     "timestamp": 1689200551113,
     "user": {
      "displayName": "Akm Islam",
      "userId": "10887598172150809320"
     },
     "user_tz": 240
    },
    "id": "blWB2N4AxBTc",
    "outputId": "01c1f0b9-a255-4363-f7ae-9ff942466ff0"
   },
   "outputs": [],
   "source": [
    "import pandas as pd\n",
    "data = {'name': ['George', 'Kevin', 'Michael', 'Jose'],\n",
    "        'age': [35, 20, 26, 25],\n",
    "        'height': [5.5, 4.9, 5.6, 5.4]}\n",
    "df = pd.DataFrame(data,index=['a','x','y','z'])\n",
    "df"
   ]
  },
  {
   "cell_type": "code",
   "execution_count": null,
   "metadata": {
    "colab": {
     "base_uri": "https://localhost:8080/",
     "height": 174
    },
    "executionInfo": {
     "elapsed": 221,
     "status": "ok",
     "timestamp": 1689200696474,
     "user": {
      "displayName": "Akm Islam",
      "userId": "10887598172150809320"
     },
     "user_tz": 240
    },
    "id": "whJQneAdEX94",
    "outputId": "4be4da1d-cd21-4244-a872-60899bb6d025"
   },
   "outputs": [],
   "source": [
    "df.drop(['name', 'age'],axis='columns')"
   ]
  },
  {
   "cell_type": "code",
   "execution_count": null,
   "metadata": {
    "colab": {
     "base_uri": "https://localhost:8080/",
     "height": 174
    },
    "executionInfo": {
     "elapsed": 214,
     "status": "ok",
     "timestamp": 1689200712856,
     "user": {
      "displayName": "Akm Islam",
      "userId": "10887598172150809320"
     },
     "user_tz": 240
    },
    "id": "Ek5uA-fGPSRQ",
    "outputId": "9de9b729-1642-4d50-8419-e1e97f914da9"
   },
   "outputs": [],
   "source": [
    "df"
   ]
  },
  {
   "cell_type": "code",
   "execution_count": null,
   "metadata": {
    "colab": {
     "base_uri": "https://localhost:8080/",
     "height": 174
    },
    "executionInfo": {
     "elapsed": 232,
     "status": "ok",
     "timestamp": 1689200730270,
     "user": {
      "displayName": "Akm Islam",
      "userId": "10887598172150809320"
     },
     "user_tz": 240
    },
    "id": "5LxITuqFPVau",
    "outputId": "3f945413-300a-47dd-efc1-6cdb1a004ad2"
   },
   "outputs": [],
   "source": [
    "df.drop(['name'],axis='columns',inplace=True)\n",
    "df"
   ]
  },
  {
   "cell_type": "code",
   "execution_count": null,
   "metadata": {
    "id": "FQ4GqZcMWmey"
   },
   "outputs": [],
   "source": [
    "df.drop(columns=['age'])"
   ]
  },
  {
   "cell_type": "code",
   "execution_count": null,
   "metadata": {
    "id": "mLRo088JEX94"
   },
   "outputs": [],
   "source": [
    "df.drop(index=['a', 'x'],inplace=True)\n",
    "df"
   ]
  },
  {
   "cell_type": "code",
   "execution_count": null,
   "metadata": {
    "id": "EOkNyvz6qUSn"
   },
   "outputs": [],
   "source": [
    "df.drop(['y']) # drop rows by default"
   ]
  },
  {
   "cell_type": "code",
   "execution_count": null,
   "metadata": {
    "id": "95aokbGdEX95"
   },
   "outputs": [],
   "source": []
  },
  {
   "cell_type": "markdown",
   "metadata": {
    "id": "hMkktXLyEX-E"
   },
   "source": [
    "### [Apply Function](https://pandas.pydata.org/docs/reference/api/pandas.DataFrame.apply.html)\n",
    "\n",
    "Axis:\n",
    "*   0 : apply function to each row.\n",
    "*   1 : apply function to each column.\n",
    "\n",
    "default 0"
   ]
  },
  {
   "cell_type": "code",
   "execution_count": null,
   "metadata": {
    "colab": {
     "base_uri": "https://localhost:8080/",
     "height": 143
    },
    "executionInfo": {
     "elapsed": 221,
     "status": "ok",
     "timestamp": 1689200986701,
     "user": {
      "displayName": "Akm Islam",
      "userId": "10887598172150809320"
     },
     "user_tz": 240
    },
    "id": "kDyxvDvStHNF",
    "outputId": "e55dbb7f-9709-4862-d8de-a820f3759928"
   },
   "outputs": [],
   "source": [
    "df=pd.DataFrame([[60000, 25],[70000, 25],[90000, 25]], columns=['Salary', 'Age'])\n",
    "df"
   ]
  },
  {
   "cell_type": "code",
   "execution_count": null,
   "metadata": {
    "colab": {
     "base_uri": "https://localhost:8080/"
    },
    "executionInfo": {
     "elapsed": 212,
     "status": "ok",
     "timestamp": 1689200992007,
     "user": {
      "displayName": "Akm Islam",
      "userId": "10887598172150809320"
     },
     "user_tz": 240
    },
    "id": "dq4CuY4Jzj2U",
    "outputId": "cc2a2d42-848e-40aa-b792-d29788a098cf"
   },
   "outputs": [],
   "source": [
    "df['Salary'].apply(lambda x:x+2000)"
   ]
  },
  {
   "cell_type": "code",
   "execution_count": null,
   "metadata": {
    "colab": {
     "base_uri": "https://localhost:8080/",
     "height": 143
    },
    "executionInfo": {
     "elapsed": 6,
     "status": "ok",
     "timestamp": 1689200992836,
     "user": {
      "displayName": "Akm Islam",
      "userId": "10887598172150809320"
     },
     "user_tz": 240
    },
    "id": "_fmhk3E0Qlql",
    "outputId": "8b9f7dd6-6414-4de2-9f1c-03393a3bfe08"
   },
   "outputs": [],
   "source": [
    "df"
   ]
  },
  {
   "cell_type": "code",
   "execution_count": null,
   "metadata": {
    "colab": {
     "base_uri": "https://localhost:8080/",
     "height": 143
    },
    "executionInfo": {
     "elapsed": 218,
     "status": "ok",
     "timestamp": 1689201112324,
     "user": {
      "displayName": "Akm Islam",
      "userId": "10887598172150809320"
     },
     "user_tz": 240
    },
    "id": "artjaUFSQiJ7",
    "outputId": "2cc3d40f-3a14-4ed4-f035-41e625b88200"
   },
   "outputs": [],
   "source": [
    "df['Salary']=df['Salary'].apply(lambda x:x+2000)\n",
    "df"
   ]
  },
  {
   "cell_type": "markdown",
   "metadata": {
    "id": "2pNko1EbEX-K"
   },
   "source": [
    "### Duplicate Labels"
   ]
  },
  {
   "cell_type": "code",
   "execution_count": null,
   "metadata": {
    "colab": {
     "base_uri": "https://localhost:8080/"
    },
    "executionInfo": {
     "elapsed": 196,
     "status": "ok",
     "timestamp": 1689201134806,
     "user": {
      "displayName": "Akm Islam",
      "userId": "10887598172150809320"
     },
     "user_tz": 240
    },
    "id": "6OQMAdScEX-L",
    "outputId": "faf82b56-5028-4d3b-df16-18a2452aed0c"
   },
   "outputs": [],
   "source": [
    "obj = pd.Series(range(5), index=['a', 'a', 'b', 'b', 'c'])\n",
    "obj"
   ]
  },
  {
   "cell_type": "code",
   "execution_count": null,
   "metadata": {
    "colab": {
     "base_uri": "https://localhost:8080/"
    },
    "executionInfo": {
     "elapsed": 205,
     "status": "ok",
     "timestamp": 1689201146396,
     "user": {
      "displayName": "Akm Islam",
      "userId": "10887598172150809320"
     },
     "user_tz": 240
    },
    "id": "jS5sumOVEX-L",
    "outputId": "e0b81b7c-c162-4bf8-f858-fec84273cd56"
   },
   "outputs": [],
   "source": [
    "obj.index.is_unique"
   ]
  },
  {
   "cell_type": "code",
   "execution_count": null,
   "metadata": {
    "colab": {
     "base_uri": "https://localhost:8080/"
    },
    "executionInfo": {
     "elapsed": 4,
     "status": "ok",
     "timestamp": 1689201160810,
     "user": {
      "displayName": "Akm Islam",
      "userId": "10887598172150809320"
     },
     "user_tz": 240
    },
    "id": "yYnJhGbIEX-L",
    "outputId": "ccc62140-6f1b-4e2d-bd97-f992575bc3df"
   },
   "outputs": [],
   "source": [
    "obj['a']"
   ]
  },
  {
   "cell_type": "markdown",
   "metadata": {
    "id": "YoQWW2jdEX-S"
   },
   "source": [
    "### Unique Values, Value Counts"
   ]
  },
  {
   "cell_type": "code",
   "execution_count": null,
   "metadata": {
    "executionInfo": {
     "elapsed": 238,
     "status": "ok",
     "timestamp": 1689201193272,
     "user": {
      "displayName": "Akm Islam",
      "userId": "10887598172150809320"
     },
     "user_tz": 240
    },
    "id": "bkWJX_hWEX-S"
   },
   "outputs": [],
   "source": [
    "ser = pd.Series(['c', 'a', 'd', 'a', 'a', 'b', 'b', 'c', 'c'])"
   ]
  },
  {
   "cell_type": "code",
   "execution_count": null,
   "metadata": {
    "colab": {
     "base_uri": "https://localhost:8080/"
    },
    "executionInfo": {
     "elapsed": 4,
     "status": "ok",
     "timestamp": 1689201193845,
     "user": {
      "displayName": "Akm Islam",
      "userId": "10887598172150809320"
     },
     "user_tz": 240
    },
    "id": "V7an-c06EX-S",
    "outputId": "63ea4182-24a8-4f6f-c6fb-04f0c8b7c0c6"
   },
   "outputs": [],
   "source": [
    "ser.unique()"
   ]
  },
  {
   "cell_type": "code",
   "execution_count": null,
   "metadata": {
    "colab": {
     "base_uri": "https://localhost:8080/"
    },
    "executionInfo": {
     "elapsed": 198,
     "status": "ok",
     "timestamp": 1689201221084,
     "user": {
      "displayName": "Akm Islam",
      "userId": "10887598172150809320"
     },
     "user_tz": 240
    },
    "id": "Awrt2divEX-T",
    "outputId": "0b04be9d-dd60-4aa7-a3ab-01549760b57c"
   },
   "outputs": [],
   "source": [
    "ser.value_counts()"
   ]
  },
  {
   "cell_type": "code",
   "execution_count": null,
   "metadata": {
    "colab": {
     "base_uri": "https://localhost:8080/",
     "height": 174
    },
    "executionInfo": {
     "elapsed": 218,
     "status": "ok",
     "timestamp": 1689201249644,
     "user": {
      "displayName": "Akm Islam",
      "userId": "10887598172150809320"
     },
     "user_tz": 240
    },
    "id": "o1zyM2G9B-0b",
    "outputId": "55f52acf-cf7d-41db-ddf3-a813ee61c078"
   },
   "outputs": [],
   "source": [
    "data = {'name': ['Goerge', 'Kevin', 'Michael', 'Jose'],\n",
    "        'age': [35, 35, 50, 50],\n",
    "        'height': [5.5, 4.9, 5.6, 5.4],\n",
    "        'class':['A','B','A','C']}\n",
    "df = pd.DataFrame(data)\n",
    "df"
   ]
  },
  {
   "cell_type": "code",
   "execution_count": null,
   "metadata": {
    "colab": {
     "base_uri": "https://localhost:8080/"
    },
    "executionInfo": {
     "elapsed": 194,
     "status": "ok",
     "timestamp": 1689201470999,
     "user": {
      "displayName": "Akm Islam",
      "userId": "10887598172150809320"
     },
     "user_tz": 240
    },
    "id": "Gy5fpQM8CCvP",
    "outputId": "d871975a-e0cb-44e7-f21e-2666e2a337be"
   },
   "outputs": [],
   "source": [
    "df['class'].value_counts()"
   ]
  },
  {
   "cell_type": "markdown",
   "metadata": {
    "id": "ruO7Jlz5fPCM"
   },
   "source": [
    "# Handling Missing Data"
   ]
  },
  {
   "cell_type": "code",
   "execution_count": null,
   "metadata": {
    "executionInfo": {
     "elapsed": 298,
     "status": "ok",
     "timestamp": 1689201492279,
     "user": {
      "displayName": "Akm Islam",
      "userId": "10887598172150809320"
     },
     "user_tz": 240
    },
    "id": "pgYV9FXnSd40"
   },
   "outputs": [],
   "source": [
    "import pandas as pd\n",
    "import numpy as np"
   ]
  },
  {
   "cell_type": "markdown",
   "metadata": {
    "id": "aJ6usUs9wsuZ"
   },
   "source": [
    "In pandas, a missing value is mainly represented by NaN.\n",
    "NaN and NAN are equivalent definitions of nan in numpy. Python's None is also considered a missing value. [Numpy - Constants](https://numpy.org/doc/stable/reference/constants.html)"
   ]
  },
  {
   "cell_type": "code",
   "execution_count": null,
   "metadata": {
    "colab": {
     "base_uri": "https://localhost:8080/"
    },
    "executionInfo": {
     "elapsed": 196,
     "status": "ok",
     "timestamp": 1689201493966,
     "user": {
      "displayName": "Akm Islam",
      "userId": "10887598172150809320"
     },
     "user_tz": 240
    },
    "id": "lg-e977-fPCM",
    "outputId": "fca4552d-f012-43ef-bbba-11d02252e45a"
   },
   "outputs": [],
   "source": [
    "import pandas as pd\n",
    "import numpy as np\n",
    "ser = pd.Series([1, 2, None,500,np.NaN,np.NAN,np.nan])\n",
    "ser"
   ]
  },
  {
   "cell_type": "code",
   "execution_count": null,
   "metadata": {
    "colab": {
     "base_uri": "https://localhost:8080/"
    },
    "executionInfo": {
     "elapsed": 210,
     "status": "ok",
     "timestamp": 1689201554489,
     "user": {
      "displayName": "Akm Islam",
      "userId": "10887598172150809320"
     },
     "user_tz": 240
    },
    "id": "YARrfXRixi8E",
    "outputId": "ba01a378-d3cf-49be-d6eb-2c01657e6880"
   },
   "outputs": [],
   "source": [
    "ser.isnull()"
   ]
  },
  {
   "cell_type": "code",
   "execution_count": null,
   "metadata": {
    "colab": {
     "base_uri": "https://localhost:8080/"
    },
    "executionInfo": {
     "elapsed": 235,
     "status": "ok",
     "timestamp": 1689201605802,
     "user": {
      "displayName": "Akm Islam",
      "userId": "10887598172150809320"
     },
     "user_tz": 240
    },
    "id": "bOLOgVFATPDl",
    "outputId": "1e4d54b9-50f6-4828-a596-2cb86b75c980"
   },
   "outputs": [],
   "source": [
    "ser[ser.notnull()]"
   ]
  },
  {
   "cell_type": "markdown",
   "metadata": {
    "id": "kDRYQUHMyuul"
   },
   "source": [
    "nan is a floating-point number float, if None is converted to nan, the data type dtype of the column is changed to float, even if the other values are integers int.\n",
    "None in the object column remains as None."
   ]
  },
  {
   "cell_type": "code",
   "execution_count": null,
   "metadata": {
    "colab": {
     "base_uri": "https://localhost:8080/"
    },
    "executionInfo": {
     "elapsed": 216,
     "status": "ok",
     "timestamp": 1689201789566,
     "user": {
      "displayName": "Akm Islam",
      "userId": "10887598172150809320"
     },
     "user_tz": 240
    },
    "id": "1t1_txEryw4X",
    "outputId": "3778bd7d-6061-417c-cba7-84f05642c483"
   },
   "outputs": [],
   "source": [
    "s_none_int = pd.Series([None, 1, 2])\n",
    "print(s_none_int)"
   ]
  },
  {
   "cell_type": "markdown",
   "metadata": {
    "id": "7OmeHqN7fPCM"
   },
   "source": [
    "### Filtering Out Missing Data"
   ]
  },
  {
   "cell_type": "code",
   "execution_count": null,
   "metadata": {
    "colab": {
     "base_uri": "https://localhost:8080/"
    },
    "executionInfo": {
     "elapsed": 233,
     "status": "ok",
     "timestamp": 1689201793888,
     "user": {
      "displayName": "Akm Islam",
      "userId": "10887598172150809320"
     },
     "user_tz": 240
    },
    "id": "x8vIFXF3fPCN",
    "outputId": "3b44b330-1126-4308-8a07-6c7c3d87ee94"
   },
   "outputs": [],
   "source": [
    "import numpy as np\n",
    "ser = pd.Series([1, np.nan, 3.5, np.nan, 7])\n",
    "ser"
   ]
  },
  {
   "cell_type": "code",
   "execution_count": null,
   "metadata": {
    "colab": {
     "base_uri": "https://localhost:8080/"
    },
    "executionInfo": {
     "elapsed": 211,
     "status": "ok",
     "timestamp": 1689201801493,
     "user": {
      "displayName": "Akm Islam",
      "userId": "10887598172150809320"
     },
     "user_tz": 240
    },
    "id": "Cbs4soh1zv_E",
    "outputId": "a318a166-e78e-43a5-c433-f54a404ba9ae"
   },
   "outputs": [],
   "source": [
    "ser.dropna(inplace=True) #inplace=False"
   ]
  },
  {
   "cell_type": "code",
   "execution_count": null,
   "metadata": {
    "colab": {
     "base_uri": "https://localhost:8080/"
    },
    "executionInfo": {
     "elapsed": 228,
     "status": "ok",
     "timestamp": 1689201810495,
     "user": {
      "displayName": "Akm Islam",
      "userId": "10887598172150809320"
     },
     "user_tz": 240
    },
    "id": "pD7Cz4ZFzzDr",
    "outputId": "7add8826-e67a-4e8a-b3ff-215078e0ec9e"
   },
   "outputs": [],
   "source": [
    "ser"
   ]
  },
  {
   "cell_type": "code",
   "execution_count": null,
   "metadata": {
    "colab": {
     "base_uri": "https://localhost:8080/"
    },
    "executionInfo": {
     "elapsed": 197,
     "status": "ok",
     "timestamp": 1689201813553,
     "user": {
      "displayName": "Akm Islam",
      "userId": "10887598172150809320"
     },
     "user_tz": 240
    },
    "id": "LLACGQ9RHAjT",
    "outputId": "b0b09b51-0f35-4e7b-954c-5130e051631b"
   },
   "outputs": [],
   "source": [
    "ser.notnull()"
   ]
  },
  {
   "cell_type": "code",
   "execution_count": null,
   "metadata": {
    "colab": {
     "base_uri": "https://localhost:8080/"
    },
    "executionInfo": {
     "elapsed": 201,
     "status": "ok",
     "timestamp": 1689201815660,
     "user": {
      "displayName": "Akm Islam",
      "userId": "10887598172150809320"
     },
     "user_tz": 240
    },
    "id": "mh2OSluBfPCN",
    "outputId": "b6d6fbd9-1fd3-4e61-bcfc-580f5e6bdc51"
   },
   "outputs": [],
   "source": [
    "ser[ser.notnull()]"
   ]
  },
  {
   "cell_type": "code",
   "execution_count": null,
   "metadata": {
    "colab": {
     "base_uri": "https://localhost:8080/"
    },
    "executionInfo": {
     "elapsed": 219,
     "status": "ok",
     "timestamp": 1689201819092,
     "user": {
      "displayName": "Akm Islam",
      "userId": "10887598172150809320"
     },
     "user_tz": 240
    },
    "id": "Dfw0axLTz2B_",
    "outputId": "c71a12ae-7c23-4cc6-c3bc-f78ca8afc440"
   },
   "outputs": [],
   "source": [
    "ser"
   ]
  },
  {
   "cell_type": "markdown",
   "metadata": {
    "id": "GsjYYXz_BMtg"
   },
   "source": [
    "\n",
    "\n",
    "```\n",
    "axis{0 or ‘index’, 1 or ‘columns’}, default 0\n",
    "Determine if rows or columns which contain missing values are removed.\n",
    "\n",
    "0, or ‘index’ : Drop rows which contain missing values.\n",
    "\n",
    "1, or ‘columns’ : Drop columns which contain missing value.\n",
    "```\n",
    "\n"
   ]
  },
  {
   "cell_type": "code",
   "execution_count": null,
   "metadata": {
    "colab": {
     "base_uri": "https://localhost:8080/",
     "height": 174
    },
    "executionInfo": {
     "elapsed": 195,
     "status": "ok",
     "timestamp": 1689201831064,
     "user": {
      "displayName": "Akm Islam",
      "userId": "10887598172150809320"
     },
     "user_tz": 240
    },
    "id": "pfIo2hWPfPCN",
    "outputId": "c0bc1b75-3782-47c8-f345-0ef816fd226f"
   },
   "outputs": [],
   "source": [
    "df = pd.DataFrame([[1., 6.5, 3.], [1., np.nan, np.nan],\n",
    "                     [np.nan, np.nan, np.nan], [np.nan, 6.5, 3.]])\n",
    "df"
   ]
  },
  {
   "cell_type": "code",
   "execution_count": null,
   "metadata": {
    "colab": {
     "base_uri": "https://localhost:8080/",
     "height": 143
    },
    "executionInfo": {
     "elapsed": 225,
     "status": "ok",
     "timestamp": 1689202019241,
     "user": {
      "displayName": "Akm Islam",
      "userId": "10887598172150809320"
     },
     "user_tz": 240
    },
    "id": "WDD1giB90B3f",
    "outputId": "b166fd63-ad51-4f92-87c6-66a2e40b1ab1"
   },
   "outputs": [],
   "source": [
    "cleaned_df = df.dropna(axis=1,how='all')\n",
    "\n",
    "cleaned_df"
   ]
  },
  {
   "cell_type": "markdown",
   "metadata": {
    "id": "gsgsk_qXAyit"
   },
   "source": [
    "\n",
    "\n",
    "```\n",
    "axis:\n",
    "{0 or ‘index’, 1 or ‘columns’}, default 0\n",
    "Determine if rows or columns which contain missing values are removed.\n",
    "0, or ‘index’ : Drop rows which contain missing values.\n",
    "1, or ‘columns’ : Drop columns which contain missing value.\n",
    "\n",
    "how:\n",
    "{‘any’, ‘all’}, default ‘any’\n",
    "Determine if row or column is removed from DataFrame, when we have at least one NA or all NA.\n",
    "‘any’ : If any NA values are present, drop that row or column.\n",
    "‘all’ : If all values are NA, drop that row or column.\n",
    "\n",
    "inplace:\n",
    "bool, default False\n",
    "```\n",
    "\n"
   ]
  },
  {
   "cell_type": "code",
   "execution_count": null,
   "metadata": {
    "colab": {
     "base_uri": "https://localhost:8080/",
     "height": 174
    },
    "executionInfo": {
     "elapsed": 217,
     "status": "ok",
     "timestamp": 1689202050272,
     "user": {
      "displayName": "Akm Islam",
      "userId": "10887598172150809320"
     },
     "user_tz": 240
    },
    "id": "xN6sU8E1BijH",
    "outputId": "fcc11f0c-c19a-4524-938c-9adca12eeefe"
   },
   "outputs": [],
   "source": [
    "df = pd.DataFrame([[2, 5, 6], [4, np.nan, np.nan],\n",
    "                     [np.nan, np.nan, np.nan], [np.nan, 3, 7]])\n",
    "df"
   ]
  },
  {
   "cell_type": "code",
   "execution_count": null,
   "metadata": {
    "colab": {
     "base_uri": "https://localhost:8080/",
     "height": 143
    },
    "executionInfo": {
     "elapsed": 203,
     "status": "ok",
     "timestamp": 1689202054010,
     "user": {
      "displayName": "Akm Islam",
      "userId": "10887598172150809320"
     },
     "user_tz": 240
    },
    "id": "lH5dQVVvfPCN",
    "outputId": "66697822-9224-4d81-8073-5d07947b0674"
   },
   "outputs": [],
   "source": [
    "df.dropna(how='all')"
   ]
  },
  {
   "cell_type": "code",
   "execution_count": null,
   "metadata": {
    "colab": {
     "base_uri": "https://localhost:8080/",
     "height": 80
    },
    "executionInfo": {
     "elapsed": 206,
     "status": "ok",
     "timestamp": 1689202056015,
     "user": {
      "displayName": "Akm Islam",
      "userId": "10887598172150809320"
     },
     "user_tz": 240
    },
    "id": "cNzqWNPKBjEo",
    "outputId": "b84810a1-e0ee-4dc7-b2f8-aca7d6e6cb93"
   },
   "outputs": [],
   "source": [
    "df.dropna(how='any')"
   ]
  },
  {
   "cell_type": "code",
   "execution_count": null,
   "metadata": {
    "colab": {
     "base_uri": "https://localhost:8080/",
     "height": 174
    },
    "executionInfo": {
     "elapsed": 203,
     "status": "ok",
     "timestamp": 1689202057817,
     "user": {
      "displayName": "Akm Islam",
      "userId": "10887598172150809320"
     },
     "user_tz": 240
    },
    "id": "k3E3jcNvfPCO",
    "outputId": "9fd0f4bd-1509-49f9-9960-a2e905c2121f"
   },
   "outputs": [],
   "source": [
    "df[4] = np.nan\n",
    "df"
   ]
  },
  {
   "cell_type": "code",
   "execution_count": null,
   "metadata": {
    "colab": {
     "base_uri": "https://localhost:8080/",
     "height": 174
    },
    "executionInfo": {
     "elapsed": 207,
     "status": "ok",
     "timestamp": 1689202068906,
     "user": {
      "displayName": "Akm Islam",
      "userId": "10887598172150809320"
     },
     "user_tz": 240
    },
    "id": "d7F5hGbY0G5J",
    "outputId": "127a2023-b2b5-4d3a-faa1-0b9b959dfddf"
   },
   "outputs": [],
   "source": [
    "df.dropna(axis=1, how='all')"
   ]
  },
  {
   "cell_type": "code",
   "execution_count": null,
   "metadata": {
    "id": "tctR1YmTCMAn"
   },
   "outputs": [],
   "source": [
    "df.dropna(axis=1, how='any')"
   ]
  },
  {
   "cell_type": "markdown",
   "metadata": {
    "id": "vJxZxCECfPCO"
   },
   "source": [
    "Filling In Missing Data"
   ]
  },
  {
   "cell_type": "code",
   "execution_count": null,
   "metadata": {
    "colab": {
     "base_uri": "https://localhost:8080/",
     "height": 174
    },
    "executionInfo": {
     "elapsed": 244,
     "status": "ok",
     "timestamp": 1689202244965,
     "user": {
      "displayName": "Akm Islam",
      "userId": "10887598172150809320"
     },
     "user_tz": 240
    },
    "id": "SDpN6Xu2fPCO",
    "outputId": "04050a72-9153-43d9-bc66-d7a19ca85acf"
   },
   "outputs": [],
   "source": [
    "df.fillna(0) #inplace=False"
   ]
  },
  {
   "cell_type": "code",
   "execution_count": null,
   "metadata": {
    "colab": {
     "base_uri": "https://localhost:8080/",
     "height": 174
    },
    "executionInfo": {
     "elapsed": 216,
     "status": "ok",
     "timestamp": 1689202259952,
     "user": {
      "displayName": "Akm Islam",
      "userId": "10887598172150809320"
     },
     "user_tz": 240
    },
    "id": "cdSdbkvMCQ8S",
    "outputId": "8d2dddf8-14eb-46d4-b809-78e84f4d1971"
   },
   "outputs": [],
   "source": [
    "df"
   ]
  },
  {
   "cell_type": "code",
   "execution_count": null,
   "metadata": {
    "colab": {
     "base_uri": "https://localhost:8080/",
     "height": 174
    },
    "executionInfo": {
     "elapsed": 221,
     "status": "ok",
     "timestamp": 1689202307430,
     "user": {
      "displayName": "Akm Islam",
      "userId": "10887598172150809320"
     },
     "user_tz": 240
    },
    "id": "DvOFQrw6fPCO",
    "outputId": "053e9684-1d95-4ac2-bc4f-3f52fb67df9c"
   },
   "outputs": [],
   "source": [
    "df.fillna({1: 0.5, 2: 0}) # fill by column (0.5 in col 1 and 0 in col 2)"
   ]
  },
  {
   "cell_type": "code",
   "execution_count": null,
   "metadata": {
    "colab": {
     "base_uri": "https://localhost:8080/",
     "height": 174
    },
    "executionInfo": {
     "elapsed": 222,
     "status": "ok",
     "timestamp": 1689202354267,
     "user": {
      "displayName": "Akm Islam",
      "userId": "10887598172150809320"
     },
     "user_tz": 240
    },
    "id": "UXjRpAGOIAXn",
    "outputId": "2d536fda-08af-4b1c-e3ce-f021dd133848"
   },
   "outputs": [],
   "source": [
    "df.fillna({0: df[0].mean()})"
   ]
  },
  {
   "cell_type": "code",
   "execution_count": null,
   "metadata": {
    "colab": {
     "base_uri": "https://localhost:8080/"
    },
    "executionInfo": {
     "elapsed": 231,
     "status": "ok",
     "timestamp": 1689203378462,
     "user": {
      "displayName": "Akm Islam",
      "userId": "10887598172150809320"
     },
     "user_tz": 240
    },
    "id": "hrdO3omJWdsO",
    "outputId": "d82c4217-36c1-46d6-f322-e32f7134bcaf"
   },
   "outputs": [],
   "source": [
    "def myfunc(x):\n",
    "  print(x.fillna(0),'\\n----------------------')\n",
    "\n",
    "df.apply(myfunc,axis='columns')\n",
    "\n",
    "#df.apply(myfunc,axis='rows')\n",
    "df"
   ]
  },
  {
   "cell_type": "code",
   "execution_count": null,
   "metadata": {
    "id": "dARUM5P1T8vX"
   },
   "outputs": [],
   "source": []
  }
 ],
 "metadata": {
  "colab": {
   "authorship_tag": "ABX9TyPF9vqvFmz8soPrblwa5UDq",
   "provenance": []
  },
  "kernelspec": {
   "display_name": "Python 3 (ipykernel)",
   "language": "python",
   "name": "python3"
  },
  "language_info": {
   "codemirror_mode": {
    "name": "ipython",
    "version": 3
   },
   "file_extension": ".py",
   "mimetype": "text/x-python",
   "name": "python",
   "nbconvert_exporter": "python",
   "pygments_lexer": "ipython3",
   "version": "3.11.0"
  }
 },
 "nbformat": 4,
 "nbformat_minor": 4
}
