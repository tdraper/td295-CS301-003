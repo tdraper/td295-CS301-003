{
 "cells": [
  {
   "cell_type": "markdown",
   "id": "9354f4d3",
   "metadata": {},
   "source": [
    "### Common data science packages in Python ###\n",
    "| Import name\t| Common alias\t| Description |\n",
    "| :------------ | :------------ | :---------- |\n",
    "| numpy\t| np\t| NumPy includes functions and classes that aid in numerical computation. NumPy is used in many other data science packages. |\n",
    "| pandas | pd\t| pandas provides methods and classes for tabular and time-series data. |\n",
    "| sklearn\t| sk\t| scikit-learn provides implementations of many machine learning algorithms with a uniform syntax for preprocessing data, specifying models, fitting models with cross-validation, and assessing models. |\n",
    "| matplotlib.pyplot\t| plt\t| matplotlib allows the creation of data visualizations in Python. The functions mostly expect NumPy arrays.\n",
    "| seaborn\t| sns\t| seaborn also allows the creation of data visualizations but works better with pandas DataFrame. |\n",
    "| scipy.stats\t| sp.stats\t| SciPy provides algorithms and functions for computing problems that arise in science, engineering and statistics. scipy.stats provides the functions for statistics. |\n",
    "| statsmodels\t| sm\t| statsmodels adds functionality to Python to estimate many different kinds of statistical models, make inferences from those models, and explore data. |\n",
    "\n"
   ]
  },
  {
   "cell_type": "code",
   "execution_count": null,
   "id": "22f1fa2e",
   "metadata": {},
   "outputs": [],
   "source": [
    "# Import packages\n",
    "\n",
    "## Most coding styles require package imports at the top of the notebook.\n",
    "## This style prevents running much of a notebook to find a package needs to be installed.\n",
    "import numpy as np\n",
    "import pandas as pd\n",
    "import seaborn as sns\n",
    "import matplotlib.pyplot as plt\n",
    "from sklearn.ensemble import RandomForestClassifier\n",
    "from sklearn import metrics\n",
    "from sklearn.model_selection import train_test_split"
   ]
  },
  {
   "cell_type": "markdown",
   "id": "c4a4790d",
   "metadata": {},
   "source": [
    "## Load dataset"
   ]
  },
  {
   "cell_type": "markdown",
   "id": "34957a43",
   "metadata": {},
   "source": [
    "[hawks.csv](https://drive.google.com/file/d/129Jq2cWb3SopmPjShEQpqDISxJ7XZil8/view?usp=sharing)"
   ]
  },
  {
   "cell_type": "code",
   "execution_count": null,
   "id": "79e7d711",
   "metadata": {},
   "outputs": [],
   "source": [
    "# Load the hawks dataset\n",
    "hawks = pd.read_csv('data/hawks.csv')"
   ]
  },
  {
   "cell_type": "markdown",
   "id": "41bb2cc8",
   "metadata": {},
   "source": [
    "This dataset includes data about hawks at a nature preserve in Iowa.\n",
    " * Species - CH:Cooper's Hawk, SS:Sharp-shinned Hawk, RT:Redtail Hawk\n",
    " * Age - A:Adult, I:Immature\n",
    " * Wing - length of the primary wing feather in mm\n",
    " * Weight - Body weight in g\n",
    " * Culmen - Length along the top of the bill from tip to face in mm\n",
    " * Hallux - Length in mm of the killing talon\n",
    " * Tail - Aggregate measurement related to the length of the tail in mm"
   ]
  },
  {
   "cell_type": "code",
   "execution_count": null,
   "id": "d6fce3f9",
   "metadata": {},
   "outputs": [],
   "source": [
    "# Calculate summary statistics using .describe()\n",
    "hawks.describe(include='all')"
   ]
  },
  {
   "cell_type": "code",
   "execution_count": null,
   "id": "58438dfd",
   "metadata": {},
   "outputs": [],
   "source": [
    "# Visualize the relationship between each pair of numerical variables\n",
    "sns.pairplot(data=hawks, hue='Species')"
   ]
  },
  {
   "cell_type": "code",
   "execution_count": null,
   "id": "b8e2f9a7",
   "metadata": {},
   "outputs": [],
   "source": [
    "# Calculate the mean for each feature according to each species.\n",
    "\n",
    "## pandas makes calculating statistics of groups easy with the groupby function.\n",
    "hawks.groupby('Species').mean(numeric_only=True)"
   ]
  },
  {
   "cell_type": "code",
   "execution_count": null,
   "id": "05d8913d",
   "metadata": {},
   "outputs": [],
   "source": [
    "# Calculate the maximum for each feature according to each species.\n",
    "hawks.groupby('Species').max(numeric_only=True)"
   ]
  },
  {
   "cell_type": "markdown",
   "id": "009b3649",
   "metadata": {},
   "source": [
    "Looking at the Hallux column in the pairplot and the summary groupby statistics, the maximum Hallux length is 341mm or over a foot long! Hallux length may have some entry errors that put the decimal point in the wrong place."
   ]
  },
  {
   "cell_type": "code",
   "execution_count": null,
   "id": "b4d04533",
   "metadata": {},
   "outputs": [],
   "source": [
    "# Plot the distribution of hallux length to determine a good cutoff\n",
    "sns.histplot(data=hawks, x='Hallux', hue='Species')"
   ]
  },
  {
   "cell_type": "code",
   "execution_count": null,
   "id": "a6fb17e5",
   "metadata": {},
   "outputs": [],
   "source": [
    "# Remap the extreme outliers\n",
    "## Adjust the cutoff to remap obviously wrong Hallux lengths to the correct units.\n",
    "## Change this value and rerun this cell and the cell below until happy with the results.\n",
    "cutoff = 200\n",
    "hawks.loc[hawks['Hallux'] > cutoff, 'Hallux'] = (\n",
    "    hawks.loc[hawks['Hallux'] > cutoff, 'Hallux'] / 10\n",
    ")\n",
    "hawks.dropna()"
   ]
  },
  {
   "cell_type": "code",
   "execution_count": null,
   "id": "677056d7",
   "metadata": {},
   "outputs": [],
   "source": [
    "# Plot to see if all obvious outliers have remapped.\n",
    "sns.pairplot(data=hawks, hue='Species')"
   ]
  },
  {
   "cell_type": "code",
   "execution_count": null,
   "id": "7035f6d3",
   "metadata": {},
   "outputs": [],
   "source": [
    "# Use everything but species to predict species\n",
    "X = hawks.drop('Species', axis=1)\n",
    "y = hawks['Species']\n",
    "\n",
    "# Encode Age as a dummy variable.\n",
    "X = pd.get_dummies(X, drop_first=True)\n",
    "\n",
    "# Create a training/testing split\n",
    "X_train, X_test, y_train, y_test = train_test_split(\n",
    "    X, y, test_size=0.3, random_state=20220705\n",
    ")"
   ]
  },
  {
   "cell_type": "code",
   "execution_count": null,
   "id": "c3a9192d",
   "metadata": {},
   "outputs": [],
   "source": [
    "X"
   ]
  },
  {
   "cell_type": "code",
   "execution_count": null,
   "id": "c03450d3",
   "metadata": {},
   "outputs": [],
   "source": [
    "# Use a random forest model from scikit-learn\n",
    "species_rf = RandomForestClassifier(\n",
    "    max_depth=5,  # Change this value and run this cell and all those below.\n",
    "    n_estimators=10,\n",
    "    random_state=20220706,\n",
    ")\n",
    "species_rf.fit(X_train, y_train)  # Fit the model on the training set"
   ]
  },
  {
   "cell_type": "code",
   "execution_count": null,
   "id": "cdbc360c",
   "metadata": {},
   "outputs": [],
   "source": [
    "# Make predictions for the test set.\n",
    "y_pred = species_rf.predict(X_test)"
   ]
  },
  {
   "cell_type": "code",
   "execution_count": null,
   "id": "a021cc5e",
   "metadata": {},
   "outputs": [],
   "source": [
    "# Plot the confusion matrix to check how the model did\n",
    "# using a function from scikit-learn's metrics subpackage.\n",
    "# The number of correct classifications appear on the diagonal.\n",
    "\n",
    "## Does changing max_depth  lead to more correct classifications?\n",
    "metrics.ConfusionMatrixDisplay.from_predictions(y_test, y_pred)"
   ]
  },
  {
   "cell_type": "code",
   "execution_count": null,
   "id": "3251fe69",
   "metadata": {},
   "outputs": [],
   "source": []
  }
 ],
 "metadata": {
  "kernelspec": {
   "display_name": "Python 3 (ipykernel)",
   "language": "python",
   "name": "python3"
  },
  "language_info": {
   "codemirror_mode": {
    "name": "ipython",
    "version": 3
   },
   "file_extension": ".py",
   "mimetype": "text/x-python",
   "name": "python",
   "nbconvert_exporter": "python",
   "pygments_lexer": "ipython3",
   "version": "3.9.15"
  }
 },
 "nbformat": 4,
 "nbformat_minor": 5
}
