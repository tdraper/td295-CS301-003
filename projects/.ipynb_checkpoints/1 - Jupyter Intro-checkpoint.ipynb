{
 "cells": [
  {
   "cell_type": "markdown",
   "id": "f990f8ef",
   "metadata": {},
   "source": [
    "# This is a heading\n",
    "\n",
    "This is a text cell. Data scientists use text cells in a Jupyter notebook to write comments about a dataset or notes about  findings. Double click this Markdown cell to change the text, and click Run to format the text.\n",
    "\n",
    "## This is a smaller heading\n",
    "\n",
    "Text cells can contain:\n",
    "\n",
    "- Bulleted lists\n",
    "- Like this\n",
    "\n",
    "Or\n",
    "\n",
    "1. Numbered lists\n",
    "2. Like this"
   ]
  },
  {
   "cell_type": "code",
   "execution_count": null,
   "id": "ae9652f4",
   "metadata": {},
   "outputs": [],
   "source": [
    "# This is a code cell\n",
    "# In Python, hashtags are used to write comments, or text \n",
    "# It's good practice to use comments to write notes above \n",
    "#   a function or command\n"
   ]
  },
  {
   "cell_type": "markdown",
   "id": "6497ff74",
   "metadata": {},
   "source": [
    "[mpg.csv](https://drive.google.com/file/d/1Tiw2TFxeIoAnFBcuIX1rBXtMnXLOkz7K/view?usp=sharing)"
   ]
  },
  {
   "cell_type": "code",
   "execution_count": null,
   "id": "03867369",
   "metadata": {
    "scrolled": true
   },
   "outputs": [],
   "source": [
    "# Import seaborn library\n",
    "import seaborn as sns\n",
    "\n",
    "# Load the miles per gallon dataset and assign the dataset to mpg\n",
    "mpg = sns.load_dataset('data/mpg')\n",
    "\n",
    "# View the dataset (by default, the first and last five rows are displayed)\n",
    "mpg"
   ]
  },
  {
   "cell_type": "code",
   "execution_count": null,
   "id": "7c40dfb4",
   "metadata": {},
   "outputs": [],
   "source": [
    "# Make a scatter plot with weight on the x-axis and miles per gallon on the y-axis\n",
    "sns.scatterplot(data=mpg, x='weight', y='mpg', hue='cylinders')"
   ]
  },
  {
   "cell_type": "code",
   "execution_count": null,
   "id": "918c0d9e",
   "metadata": {},
   "outputs": [],
   "source": []
  }
 ],
 "metadata": {
  "kernelspec": {
   "display_name": "Python 3 (ipykernel)",
   "language": "python",
   "name": "python3"
  },
  "language_info": {
   "codemirror_mode": {
    "name": "ipython",
    "version": 3
   },
   "file_extension": ".py",
   "mimetype": "text/x-python",
   "name": "python",
   "nbconvert_exporter": "python",
   "pygments_lexer": "ipython3",
   "version": "3.9.15"
  }
 },
 "nbformat": 4,
 "nbformat_minor": 5
}
